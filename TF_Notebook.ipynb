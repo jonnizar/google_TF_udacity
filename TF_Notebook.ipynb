{
 "cells": [
  {
   "cell_type": "code",
   "execution_count": null,
   "metadata": {},
   "outputs": [],
   "source": [
    "#This is Box of tricks useful for TF"
   ]
  },
  {
   "cell_type": "code",
   "execution_count": 11,
   "metadata": {},
   "outputs": [
    {
     "name": "stdout",
     "output_type": "stream",
     "text": [
      "[10. 20. 30.]\n"
     ]
    }
   ],
   "source": [
    "import numpy as np\n",
    "\n",
    "x = np.arange(1,3+1,1) # Return evenly spaced values within a given interval.\n",
    "\n",
    "scores = np.array([1.0, 2.0, 3.0])\n",
    "print (scores*10)"
   ]
  },
  {
   "cell_type": "code",
   "execution_count": 27,
   "metadata": {},
   "outputs": [
    {
     "name": "stdout",
     "output_type": "stream",
     "text": [
      "0.95367431640625\n"
     ]
    }
   ],
   "source": [
    "#task is to find out what happens if small number is added to \n",
    "#large number and then the large number is substracted from the sum\n",
    "\n",
    "x = 1e9\n",
    "y = 1e-6\n",
    "\n",
    "\n",
    "for i in range(0,int(1e6)):\n",
    "    x= x+y\n",
    "\n",
    "z= x-1e9\n",
    "\n",
    "print(z)   \n",
    "\n",
    "#as we see the result is smaller than 1.0, so where did we loose some numbers?"
   ]
  },
  {
   "cell_type": "code",
   "execution_count": null,
   "metadata": {},
   "outputs": [],
   "source": [
    "#useful to plot images\n",
    "\n",
    "import matplotlib.pyplot as plt\n",
    "import matplotlib.image as mpimg\n",
    "\n",
    "img = mpimg.imread(final_path_image)\n",
    "imgplot = plt.imshow(img)\n",
    "plt.show()"
   ]
  },
  {
   "cell_type": "code",
   "execution_count": 1,
   "metadata": {},
   "outputs": [
    {
     "name": "stdout",
     "output_type": "stream",
     "text": [
      "2\n"
     ]
    }
   ],
   "source": [
    "#generate random ints\n",
    "from numpy import random\n",
    "\n",
    "r = random.randint(0,6) #Return random integers from low (inclusive) to high (exclusive).\n",
    "print (r)"
   ]
  },
  {
   "cell_type": "code",
   "execution_count": null,
   "metadata": {},
   "outputs": [],
   "source": [
    "import imageio\n",
    "\n",
    "image_data = (imageio.imread(final_path_image).astype(float)) #useful for reading in x,y pixel intensities 2D-greyscale-images"
   ]
  },
  {
   "cell_type": "code",
   "execution_count": null,
   "metadata": {},
   "outputs": [],
   "source": [
    "#extending to full relative path from the origin\n",
    "def extend_filename(origin_path):\n",
    "    cur_folders = os.listdir(origin_path)\n",
    "    \n",
    "    #extensionroutine\n",
    "    for folder in cur_folders:\n",
    "        cur_folders  = os.path.join(origin_path,folder)\n",
    "        #print(cur_folders)\n",
    "    \n",
    "    return cur_folders\n",
    "\n",
    "path_large='./notMNIST_large/' # train dataset\n",
    "path_small='./notMNIST_small/'# test dataset\n",
    "\n",
    "#for this tutorial the folder names need to include full relative path, so lets do it\n",
    "train_folders = extend_filename(path_large)\n",
    "test_folders = extend_filename(path_small)"
   ]
  },
  {
   "cell_type": "code",
   "execution_count": null,
   "metadata": {},
   "outputs": [],
   "source": [
    "'''Saving python data files as character stream'''\n",
    "\n",
    "import pickle\n",
    "\n",
    "a = ['test value','test value 2','test value 3']\n",
    "\n",
    "\n",
    "file_Name = \"testfile\"\n",
    "# open the file for writing\n",
    "fileObject = open(file_Name,'wb') \n",
    "\n",
    "# this writes the object a to the\n",
    "# file named 'testfile'\n",
    "pickle.dump(a,fileObject)   \n",
    "\n",
    "# here we close the fileObject\n",
    "fileObject.close()\n",
    "# we open the file for reading\n",
    "fileObject = open(file_Name,'rb')  #file NEEDS to be read in BINARY mode!\n",
    "# load the object from the file into var b\n",
    "b = pickle.load(fileObject)  \n"
   ]
  },
  {
   "cell_type": "code",
   "execution_count": 2,
   "metadata": {},
   "outputs": [
    {
     "name": "stdout",
     "output_type": "stream",
     "text": [
      "[40. 40.]\n"
     ]
    }
   ],
   "source": [
    "'''working with empty helper array'''\n",
    "import numpy as np\n",
    "\n",
    "empty_helper= np.array([])\n",
    "value = 40\n",
    "\n",
    "empty_helper = np.append (empty_helper, value)\n",
    "empty_helper = np.append (empty_helper, value)\n",
    "\n",
    "\n",
    "\n",
    "print (empty_helper)"
   ]
  },
  {
   "cell_type": "code",
   "execution_count": 11,
   "metadata": {},
   "outputs": [
    {
     "name": "stdout",
     "output_type": "stream",
     "text": [
      "(2, 2, 2)\n",
      "[[1. 1.]\n",
      " [1. 1.]]\n"
     ]
    }
   ],
   "source": [
    "a = np.zeros((1,2,2))\n",
    "b = np.ones((1,2,2))\n",
    "\n",
    "\n",
    "c = np.concatenate((a, b), axis=0)\n",
    "\n",
    "\n",
    "print(c.shape)\n",
    "\n",
    "print(c[1,:,:])"
   ]
  },
  {
   "cell_type": "code",
   "execution_count": 9,
   "metadata": {},
   "outputs": [
    {
     "name": "stdout",
     "output_type": "stream",
     "text": [
      "[[ 1  2  3  4]\n",
      " [ 5  6  7  8]\n",
      " [ 9 10 11 12]]\n",
      "[[ 5  6  7  8]\n",
      " [ 9 10 11 12]]\n"
     ]
    }
   ],
   "source": [
    "arr = np.array([[1,2,3,4], [5,6,7,8], [9,10,11,12]])\n",
    "print (arr)\n",
    "\n",
    "delarr = np.delete(arr, 0, 0);\n",
    "\n",
    "print (delarr)"
   ]
  },
  {
   "cell_type": "code",
   "execution_count": 6,
   "metadata": {},
   "outputs": [
    {
     "data": {
      "text/plain": [
       "array([0])"
      ]
     },
     "execution_count": 6,
     "metadata": {},
     "output_type": "execute_result"
    }
   ],
   "source": [
    "np.correlate([0], [0])"
   ]
  },
  {
   "cell_type": "code",
   "execution_count": null,
   "metadata": {},
   "outputs": [],
   "source": []
  }
 ],
 "metadata": {
  "kernelspec": {
   "display_name": "Python 3",
   "language": "python",
   "name": "python3"
  },
  "language_info": {
   "codemirror_mode": {
    "name": "ipython",
    "version": 3
   },
   "file_extension": ".py",
   "mimetype": "text/x-python",
   "name": "python",
   "nbconvert_exporter": "python",
   "pygments_lexer": "ipython3",
   "version": "3.6.4"
  }
 },
 "nbformat": 4,
 "nbformat_minor": 2
}
