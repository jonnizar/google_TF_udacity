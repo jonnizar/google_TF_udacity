{
 "cells": [
  {
   "cell_type": "code",
   "execution_count": null,
   "metadata": {},
   "outputs": [],
   "source": [
    "#This is Box of tricks useful for TF"
   ]
  },
  {
   "cell_type": "code",
   "execution_count": 11,
   "metadata": {},
   "outputs": [
    {
     "name": "stdout",
     "output_type": "stream",
     "text": [
      "[10. 20. 30.]\n"
     ]
    }
   ],
   "source": [
    "import numpy as np\n",
    "\n",
    "x = np.arange(1,3+1,1) # Return evenly spaced values within a given interval.\n",
    "\n",
    "scores = np.array([1.0, 2.0, 3.0])\n",
    "print (scores*10)"
   ]
  },
  {
   "cell_type": "code",
   "execution_count": 27,
   "metadata": {},
   "outputs": [
    {
     "name": "stdout",
     "output_type": "stream",
     "text": [
      "0.95367431640625\n"
     ]
    }
   ],
   "source": [
    "#task is to find out what happens if small number is added to \n",
    "#large number and then the large number is substracted from the sum\n",
    "\n",
    "x = 1e9\n",
    "y = 1e-6\n",
    "\n",
    "\n",
    "for i in range(0,int(1e6)):\n",
    "    x= x+y\n",
    "\n",
    "z= x-1e9\n",
    "\n",
    "print(z)   \n",
    "\n",
    "#as we see the result is smaller than 1.0, so where did we loose some numbers?"
   ]
  },
  {
   "cell_type": "code",
   "execution_count": null,
   "metadata": {},
   "outputs": [],
   "source": [
    "#useful to plot images\n",
    "\n",
    "import matplotlib.pyplot as plt\n",
    "import matplotlib.image as mpimg\n",
    "\n",
    "img = mpimg.imread(final_path_image)\n",
    "imgplot = plt.imshow(img)\n",
    "plt.show()"
   ]
  },
  {
   "cell_type": "code",
   "execution_count": 12,
   "metadata": {},
   "outputs": [
    {
     "name": "stdout",
     "output_type": "stream",
     "text": [
      "2\n",
      "5\n",
      "0\n",
      "1\n",
      "5\n",
      "4\n",
      "1\n",
      "0\n",
      "0\n",
      "3\n",
      "0\n",
      "4\n",
      "4\n",
      "2\n",
      "5\n",
      "4\n",
      "2\n",
      "0\n",
      "5\n",
      "1\n"
     ]
    }
   ],
   "source": [
    "#generate random ints\n",
    "from numpy import random\n",
    "\n",
    "r = random.randint(0,6) #Return random integers from low (inclusive) to high (exclusive).\n",
    "print (r)"
   ]
  },
  {
   "cell_type": "code",
   "execution_count": null,
   "metadata": {},
   "outputs": [],
   "source": []
  }
 ],
 "metadata": {
  "kernelspec": {
   "display_name": "Python 3",
   "language": "python",
   "name": "python3"
  },
  "language_info": {
   "codemirror_mode": {
    "name": "ipython",
    "version": 3
   },
   "file_extension": ".py",
   "mimetype": "text/x-python",
   "name": "python",
   "nbconvert_exporter": "python",
   "pygments_lexer": "ipython3",
   "version": "3.6.4"
  }
 },
 "nbformat": 4,
 "nbformat_minor": 2
}
