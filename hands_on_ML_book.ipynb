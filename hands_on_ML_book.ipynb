{
 "cells": [
  {
   "cell_type": "code",
   "execution_count": 53,
   "metadata": {},
   "outputs": [
    {
     "data": {
      "image/png": "[encoded data removed]",
      "text/plain": [
       "<matplotlib.figure.Figure at 0x7f8fb7553048>"
      ]
     },
     "metadata": {},
     "output_type": "display_data"
    },
    {
     "name": "stdout",
     "output_type": "stream",
     "text": [
      "0.7354444384211034 [[-0.00153657]]\n"
     ]
    }
   ],
   "source": [
    "'''\n",
    "p.21\n",
    "Example 1-1\n",
    "Instead of predicting boring fake OECD data, lets  use some real world oil and gas data\n",
    "from: South Dakota (https://denr.sd.gov/des/og/producti.aspx)\n",
    "'''\n",
    "\n",
    "import matplotlib\n",
    "import matplotlib.pyplot as plt\n",
    "import numpy as np\n",
    "import pandas as pd\n",
    "from sklearn.linear_model import LinearRegression\n",
    "\n",
    "#load data\n",
    "\n",
    "ozark_prod = pd.read_csv(\"oil_prod/Ozark.csv\")\n",
    "\n",
    "#prepare an convert Data to numpy\n",
    "\n",
    "#convert production days into cumulative time axis\n",
    "\n",
    "len_ozark_prod = ozark_prod.shape[0]\n",
    "cumul_time = ozark_prod.iloc[0,0]\n",
    "\n",
    "\n",
    "for i in range(1,len_ozark_prod,1):\n",
    "    ozark_prod.iloc[i,0] = ozark_prod.iloc[i-1,0] + ozark_prod.iloc[i,0]\n",
    "\n",
    "    \n",
    "X = np.c_ [ozark_prod[\"Prod_Days\"]].reshape(-1,1)\n",
    "y = np.log (np.c_ [ozark_prod[\"Oil_bbls\"]].reshape(-1,1)) #exponential decline -> use log\n",
    "\n",
    "\n",
    "\n",
    "\n",
    "#construct linear model\n",
    "\n",
    "reg = LinearRegression().fit(X, y)\n",
    "matching_score = reg.score(X, y)  \n",
    "\n",
    "X_future = np.arange(1,1500,1)\n",
    "\n",
    "plt.scatter(X,y)\n",
    "plt.plot(X_future.reshape(-1,1), reg.predict(X_future.reshape(-1,1)), color='red', \n",
    "         linewidth=1)\n",
    "plt.show()\n",
    "\n",
    "print (matching_score, reg.coef_)\n",
    "\n"
   ]
  }
 ],
 "metadata": {
  "kernelspec": {
   "display_name": "Python 3",
   "language": "python",
   "name": "python3"
  },
  "language_info": {
   "codemirror_mode": {
    "name": "ipython",
    "version": 3
   },
   "file_extension": ".py",
   "mimetype": "text/x-python",
   "name": "python",
   "nbconvert_exporter": "python",
   "pygments_lexer": "ipython3",
   "version": "3.6.4"
  }
 },
 "nbformat": 4,
 "nbformat_minor": 2
}
