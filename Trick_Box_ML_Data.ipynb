{
 "cells": [
  {
   "cell_type": "code",
   "execution_count": 13,
   "metadata": {},
   "outputs": [
    {
     "data": {
      "text/plain": [
       "'Trick Box'"
      ]
     },
     "execution_count": 13,
     "metadata": {},
     "output_type": "execute_result"
    }
   ],
   "source": [
    "'''Trick Box'''"
   ]
  },
  {
   "cell_type": "code",
   "execution_count": 11,
   "metadata": {},
   "outputs": [
    {
     "name": "stdout",
     "output_type": "stream",
     "text": [
      "[10. 20. 30.]\n"
     ]
    }
   ],
   "source": [
    "#numpy evenly spaced array return\n",
    "\n",
    "import numpy as np\n",
    "\n",
    "x = np.arange(1,3+1,1) # Return evenly spaced values within a given interval.\n",
    "\n",
    "scores = np.array([1.0, 2.0, 3.0])\n",
    "print (scores*10)"
   ]
  },
  {
   "cell_type": "code",
   "execution_count": null,
   "metadata": {},
   "outputs": [],
   "source": [
    "#plot images directly\n",
    "\n",
    "import matplotlib.pyplot as plt\n",
    "import matplotlib.image as mpimg\n",
    "\n",
    "img = mpimg.imread(final_path_image)\n",
    "imgplot = plt.imshow(img)\n",
    "plt.show()"
   ]
  },
  {
   "cell_type": "code",
   "execution_count": 1,
   "metadata": {},
   "outputs": [
    {
     "name": "stdout",
     "output_type": "stream",
     "text": [
      "2\n"
     ]
    }
   ],
   "source": [
    "#generate random integer\n",
    "from numpy import random\n",
    "\n",
    "r = random.randint(0,6) #Return random integers from low (inclusive) to high (exclusive).\n",
    "print (r)"
   ]
  },
  {
   "cell_type": "code",
   "execution_count": null,
   "metadata": {},
   "outputs": [],
   "source": [
    "#readin image\n",
    "\n",
    "import imageio\n",
    "\n",
    "image_data = (imageio.imread(final_path_image).astype(float)) #useful for reading in x,y pixel intensities 2D-greyscale-images"
   ]
  },
  {
   "cell_type": "code",
   "execution_count": null,
   "metadata": {},
   "outputs": [],
   "source": [
    "#extending to full relative path from the origin\n",
    "def extend_filename(origin_path, cur_folders):\n",
    "'''    \n",
    "joins folder list to some root path origin_path\n",
    "'''    \n",
    "    #extensionroutine\n",
    "    for folder in cur_folders:\n",
    "        cur_folders  = os.path.join(origin_path,folder)\n",
    "        #print(cur_folders)\n",
    "    \n",
    "    return joined_folders\n",
    "\n",
    "path_large='./notMNIST_large/' # train dataset\n",
    "path_small='./notMNIST_small/'# test dataset\n",
    "\n",
    "#for this tutorial the folder names need to include full relative path, so lets do it\n",
    "train_folders = extend_filename(path_large, list_of_folder)\n",
    "test_folders = extend_filename(path_small, list_of_folder)"
   ]
  },
  {
   "cell_type": "code",
   "execution_count": null,
   "metadata": {},
   "outputs": [],
   "source": [
    "'''Saving python data files as character stream into Pickle file'''\n",
    "\n",
    "import pickle\n",
    "\n",
    "a = ['test value','test value 2','test value 3']\n",
    "\n",
    "\n",
    "file_Name = \"testfile\"\n",
    "# open the file for writing\n",
    "fileObject = open(file_Name,'wb') \n",
    "\n",
    "# this writes the object a to the\n",
    "# file named 'testfile'\n",
    "pickle.dump(a,fileObject)   \n",
    "\n",
    "# here we close the fileObject\n",
    "fileObject.close()\n",
    "# we open the file for reading\n",
    "fileObject = open(file_Name,'rb')  #file NEEDS to be read in BINARY mode!\n",
    "# load the object from the file into var b\n",
    "b = pickle.load(fileObject)  \n"
   ]
  },
  {
   "cell_type": "code",
   "execution_count": null,
   "metadata": {},
   "outputs": [],
   "source": [
    "'''to store pickle in different destination'''\n",
    "def maybe_pickle(data_folders, dest_folder, min_num_images_per_class, force=False):\n",
    "  dataset_names = []\n",
    "  for folder in data_folders:\n",
    "    \n",
    "    set_filename = folder + '.pickle'        \n",
    "    dest_file = os.path.join(dest_folder,set_filename)\n",
    "    dataset_names.append(dest_file)\n",
    "    \n",
    "    if os.path.exists(dest_file) and not force:\n",
    "      # You may override by setting force=True.\n",
    "      print('%s already present - Skipping pickling.' % set_filename)\n",
    "    else:\n",
    "      print('Pickling %s.' % set_filename)\n",
    "      dataset = load_letter(folder, min_num_images_per_class)\n",
    "      try:\n",
    "        with open(dest_file, 'wb') as f:\n",
    "          pickle.dump(dataset, f, pickle.HIGHEST_PROTOCOL)\n",
    "      except Exception as e:\n",
    "        print('Unable to save data to', dest_file, ':', e)\n",
    "  \n",
    "  return dataset_names"
   ]
  },
  {
   "cell_type": "code",
   "execution_count": 2,
   "metadata": {},
   "outputs": [
    {
     "name": "stdout",
     "output_type": "stream",
     "text": [
      "[40. 40.]\n"
     ]
    }
   ],
   "source": [
    "'''working with empty helper array\n",
    "1. create empty np array\n",
    "2. append some vlues\n",
    "'''\n",
    "import numpy as np\n",
    "\n",
    "empty_helper= np.array([])\n",
    "value = 40\n",
    "\n",
    "empty_helper = np.append (empty_helper, value)\n",
    "empty_helper = np.append (empty_helper, value)\n",
    "\n",
    "\n",
    "\n",
    "print (empty_helper)"
   ]
  },
  {
   "cell_type": "code",
   "execution_count": 16,
   "metadata": {},
   "outputs": [
    {
     "name": "stdout",
     "output_type": "stream",
     "text": [
      "[[0. 0.]\n",
      " [0. 0.]]\n",
      "[[1. 1.]\n",
      " [1. 1.]]\n",
      "[[0. 0.]\n",
      " [0. 0.]]\n"
     ]
    }
   ],
   "source": [
    "import numpy as np\n",
    "\n",
    "a = np.zeros((1,2,2))\n",
    "b = np.ones((1,2,2))\n",
    "\n",
    "\n",
    "c = np.concatenate((a, b), axis=0)\n",
    "# [axis 0, axis 1, axis2]\n",
    "\n",
    "print (a[0,:,:])\n",
    "print (b[0,:,:])\n",
    "\n",
    "print(c[0,:,:])"
   ]
  },
  {
   "cell_type": "code",
   "execution_count": 9,
   "metadata": {},
   "outputs": [
    {
     "name": "stdout",
     "output_type": "stream",
     "text": [
      "[[ 1  2  3  4]\n",
      " [ 5  6  7  8]\n",
      " [ 9 10 11 12]]\n",
      "[[ 5  6  7  8]\n",
      " [ 9 10 11 12]]\n"
     ]
    }
   ],
   "source": [
    "#delete array elements\n",
    "\n",
    "arr = np.array([[1,2,3,4], [5,6,7,8], [9,10,11,12]])\n",
    "print (arr)\n",
    "\n",
    "delarr = np.delete(arr, 0, 0);\n",
    "\n",
    "print (delarr)"
   ]
  },
  {
   "cell_type": "code",
   "execution_count": 6,
   "metadata": {},
   "outputs": [
    {
     "data": {
      "text/plain": [
       "array([0])"
      ]
     },
     "execution_count": 6,
     "metadata": {},
     "output_type": "execute_result"
    }
   ],
   "source": [
    "np.correlate([0], [0])"
   ]
  },
  {
   "cell_type": "code",
   "execution_count": null,
   "metadata": {},
   "outputs": [],
   "source": [
    "'''plotting subplots'''\n",
    "\n",
    "'''\n",
    "\n",
    "plt.figure(1)\n",
    "plt.subplot(211)\n",
    "plt.imshow(train_dataset_100[25,:,:])\n",
    "\n",
    "plt.subplot(212)\n",
    "plt.imshow(cv_dataset_100[66,:,:])\n",
    "plt.show()  \n",
    "\n",
    "a = train_dataset_100[25,:,:].ravel();\n",
    "b = cv_dataset_100[67,:,:].ravel();\n",
    "\n",
    "dist = np.linalg.norm(a-b)\n",
    "\n",
    "print(dist)\n",
    "\n",
    "'''"
   ]
  }
 ],
 "metadata": {
  "kernelspec": {
   "display_name": "Python 3",
   "language": "python",
   "name": "python3"
  },
  "language_info": {
   "codemirror_mode": {
    "name": "ipython",
    "version": 3
   },
   "file_extension": ".py",
   "mimetype": "text/x-python",
   "name": "python",
   "nbconvert_exporter": "python",
   "pygments_lexer": "ipython3",
   "version": "3.6.4"
  }
 },
 "nbformat": 4,
 "nbformat_minor": 2
}
