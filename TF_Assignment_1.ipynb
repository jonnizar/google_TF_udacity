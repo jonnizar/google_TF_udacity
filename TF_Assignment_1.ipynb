{
 "cells": [
  {
   "cell_type": "code",
   "execution_count": 2,
   "metadata": {},
   "outputs": [
    {
     "data": {
      "text/plain": [
       "\"\\nDeep Learning\\nAssignment 1\\n\\nThe objective of this assignment is to learn about simple data curation practices, \\nand familiarize you with some of the data we'll be reusing later.\\n\\nThis notebook uses the notMNIST dataset to be used with python experiments. \\nThis dataset is designed to look like the classic MNIST dataset, while looking\\na little more like real data: it's a harder task, and the data is a lot less 'clean' than MNIST.\\n\""
      ]
     },
     "execution_count": 2,
     "metadata": {},
     "output_type": "execute_result"
    }
   ],
   "source": [
    "'''\n",
    "Deep Learning\n",
    "Assignment 1\n",
    "\n",
    "The objective of this assignment is to learn about simple data curation practices, \n",
    "and familiarize you with some of the data we'll be reusing later.\n",
    "\n",
    "This notebook uses the notMNIST dataset to be used with python experiments. \n",
    "This dataset is designed to look like the classic MNIST dataset, while looking\n",
    "a little more like real data: it's a harder task, and the data is a lot less 'clean' than MNIST.\n",
    "'''"
   ]
  },
  {
   "cell_type": "code",
   "execution_count": 3,
   "metadata": {},
   "outputs": [],
   "source": [
    "# These are all the modules we'll be using later. Make sure you can import them\n",
    "# before proceeding further.\n",
    "from __future__ import print_function\n",
    "import imageio\n",
    "import matplotlib.pyplot as plt\n",
    "import matplotlib.image as mpimg\n",
    "import numpy as np\n",
    "import os\n",
    "import sys\n",
    "import tarfile\n",
    "from numpy import random\n",
    "from IPython.display import display, Image\n",
    "from sklearn.linear_model import LogisticRegression\n",
    "from six.moves.urllib.request import urlretrieve\n",
    "from six.moves import cPickle as pickle\n",
    "\n",
    "# Config the matplotlib backend as plotting inline in IPython\n",
    "%matplotlib inline\n",
    "\n"
   ]
  },
  {
   "cell_type": "code",
   "execution_count": 4,
   "metadata": {},
   "outputs": [
    {
     "data": {
      "text/plain": [
       "\"First, we'll download the dataset to our local machine. The data consists of characters \\nrendered in a variety of fonts on a 28x28 image. The labels are limited to 'A' through 'J'\\n(10 classes). The training set has about 500k and the testset 19000 labeled examples. Given these sizes, \\nit should be possible to train models quickly on any machine.\""
      ]
     },
     "execution_count": 4,
     "metadata": {},
     "output_type": "execute_result"
    }
   ],
   "source": [
    "'''First, we'll download the dataset to our local machine. The data consists of characters \n",
    "rendered in a variety of fonts on a 28x28 image. The labels are limited to 'A' through 'J'\n",
    "(10 classes). The training set has about 500k and the testset 19000 labeled examples. Given these sizes, \n",
    "it should be possible to train models quickly on any machine.'''"
   ]
  },
  {
   "cell_type": "code",
   "execution_count": 5,
   "metadata": {},
   "outputs": [
    {
     "name": "stdout",
     "output_type": "stream",
     "text": [
      "Found and verified ./notMNIST_large.tar.gz\n",
      "Found and verified ./notMNIST_small.tar.gz\n"
     ]
    }
   ],
   "source": [
    "url = 'https://commondatastorage.googleapis.com/books1000/'\n",
    "last_percent_reported = None\n",
    "data_root = '.' # Change me to store data elsewhere\n",
    "\n",
    "def download_progress_hook(count, blockSize, totalSize):\n",
    "  \"\"\"A hook to report the progress of a download. This is mostly intended for users with\n",
    "  slow internet connections. Reports every 5% change in download progress.\n",
    "  \"\"\"\n",
    "  global last_percent_reported\n",
    "  percent = int(count * blockSize * 100 / totalSize)\n",
    "\n",
    "  if last_percent_reported != percent:\n",
    "    if percent % 5 == 0:\n",
    "      sys.stdout.write(\"%s%%\" % percent)\n",
    "      sys.stdout.flush()\n",
    "    else:\n",
    "      sys.stdout.write(\".\")\n",
    "      sys.stdout.flush()\n",
    "      \n",
    "    last_percent_reported = percent\n",
    "        \n",
    "def maybe_download(filename, expected_bytes, force=False):\n",
    "  \"\"\"Download a file if not present, and make sure it's the right size.\"\"\"\n",
    "  dest_filename = os.path.join(data_root, filename)\n",
    "  if force or not os.path.exists(dest_filename):\n",
    "    print('Attempting to download:', filename) \n",
    "    filename, _ = urlretrieve(url + filename, dest_filename, reporthook=download_progress_hook)\n",
    "    print('\\nDownload Complete!')\n",
    "  statinfo = os.stat(dest_filename)\n",
    "  if statinfo.st_size == expected_bytes:\n",
    "    print('Found and verified', dest_filename)\n",
    "  else:\n",
    "    raise Exception(\n",
    "      'Failed to verify ' + dest_filename + '. Can you get to it with a browser?')\n",
    "  return dest_filename\n",
    "\n",
    "train_filename = maybe_download('notMNIST_large.tar.gz', 247336696)\n",
    "test_filename = maybe_download('notMNIST_small.tar.gz', 8458043)\n"
   ]
  },
  {
   "cell_type": "code",
   "execution_count": 6,
   "metadata": {},
   "outputs": [
    {
     "data": {
      "text/plain": [
       "'Extract the dataset from the compressed .tar.gz file. This should give you a set of directories, labeled A through J.'"
      ]
     },
     "execution_count": 6,
     "metadata": {},
     "output_type": "execute_result"
    }
   ],
   "source": [
    "'''Extract the dataset from the compressed .tar.gz file. This should give you a set of directories, labeled A through J.'''"
   ]
  },
  {
   "cell_type": "code",
   "execution_count": 7,
   "metadata": {},
   "outputs": [
    {
     "name": "stdout",
     "output_type": "stream",
     "text": [
      "./notMNIST_large already present - Skipping extraction of ./notMNIST_large.tar.gz.\n",
      "['./notMNIST_large/A', './notMNIST_large/B', './notMNIST_large/C', './notMNIST_large/D', './notMNIST_large/E', './notMNIST_large/F', './notMNIST_large/G', './notMNIST_large/H', './notMNIST_large/I', './notMNIST_large/J']\n",
      "./notMNIST_small already present - Skipping extraction of ./notMNIST_small.tar.gz.\n",
      "['./notMNIST_small/A', './notMNIST_small/B', './notMNIST_small/C', './notMNIST_small/D', './notMNIST_small/E', './notMNIST_small/F', './notMNIST_small/G', './notMNIST_small/H', './notMNIST_small/I', './notMNIST_small/J']\n"
     ]
    }
   ],
   "source": [
    "num_classes = 10\n",
    "np.random.seed(133)\n",
    "\n",
    "def maybe_extract(filename, force=False):\n",
    "  root = os.path.splitext(os.path.splitext(filename)[0])[0]  # remove .tar.gz\n",
    "  if os.path.isdir(root) and not force:\n",
    "    # You may override by setting force=True.\n",
    "    print('%s already present - Skipping extraction of %s.' % (root, filename))\n",
    "  else:\n",
    "    print('Extracting data for %s. This may take a while. Please wait.' % root)\n",
    "    tar = tarfile.open(filename)\n",
    "    sys.stdout.flush()\n",
    "    tar.extractall(data_root)\n",
    "    tar.close()\n",
    "  data_folders = [\n",
    "    os.path.join(root, d) for d in sorted(os.listdir(root))\n",
    "    if os.path.isdir(os.path.join(root, d))]\n",
    "  if len(data_folders) != num_classes:\n",
    "    raise Exception(\n",
    "      'Expected %d folders, one per class. Found %d instead.' % (\n",
    "        num_classes, len(data_folders)))\n",
    "  print(data_folders)\n",
    "  return data_folders\n",
    "  \n",
    "train_folders = maybe_extract(train_filename)\n",
    "test_folders = maybe_extract(test_filename)\n"
   ]
  },
  {
   "cell_type": "code",
   "execution_count": 8,
   "metadata": {},
   "outputs": [
    {
     "data": {
      "text/plain": [
       "\"Let's take a peek at some of the data to make sure it looks sensible. Each exemplar should be an image of a character A through J rendered in a different font. Display a sample of the images that we\\njust downloaded. Hint: you can use the package IPython.display\""
      ]
     },
     "execution_count": 8,
     "metadata": {},
     "output_type": "execute_result"
    }
   ],
   "source": [
    "'''Let's take a peek at some of the data to make sure it looks sensible. Each exemplar should be an image of a character A through J rendered in a different font. Display a sample of the images that we\n",
    "just downloaded. Hint: you can use the package IPython.display'''"
   ]
  },
  {
   "cell_type": "code",
   "execution_count": 9,
   "metadata": {},
   "outputs": [
    {
     "data": {
      "text/plain": [
       "\"#set path to directories where image data is stored\\npath_large='./notMNIST_large/' # train dataset\\npath_small='./notMNIST_small/'# test dataset\\n\\nimgFiles_large = os.listdir(path_large)\\nimgFiles_small = os.listdir(path_small)\\n\\n\\n#iterate through small images\\nfor i in range(0,3):\\n    random_index_path = random.randint(0,len(imgFiles_small))#in numpy the randint includes the last number        \\n    \\n    temp_path = path_small + imgFiles_small[random_index_path] #path to random directory\\n    temp_list_img = os.listdir(temp_path) #list all images of files within random directory    \\n       \\n    radom_index_img = random.randint(0,len(temp_list_img))\\n    \\n    #pick some random image\\n    final_path_image = temp_path +'/'+ temp_list_img[radom_index_img]\\n       \\n    print(final_path_image) #print final path  \\n        \\n\\n    #image = mpimg.imread(final_path_image) #image from path\\n    #image_plot = plt.imshow(image)\\n    #plt.show()\\n    \\n\\n\\n#print(image_data)\\n\\n\""
      ]
     },
     "execution_count": 9,
     "metadata": {},
     "output_type": "execute_result"
    }
   ],
   "source": [
    "'''#set path to directories where image data is stored\n",
    "path_large='./notMNIST_large/' # train dataset\n",
    "path_small='./notMNIST_small/'# test dataset\n",
    "\n",
    "imgFiles_large = os.listdir(path_large)\n",
    "imgFiles_small = os.listdir(path_small)\n",
    "\n",
    "\n",
    "#iterate through small images\n",
    "for i in range(0,3):\n",
    "    random_index_path = random.randint(0,len(imgFiles_small))#in numpy the randint includes the last number        \n",
    "    \n",
    "    temp_path = path_small + imgFiles_small[random_index_path] #path to random directory\n",
    "    temp_list_img = os.listdir(temp_path) #list all images of files within random directory    \n",
    "       \n",
    "    radom_index_img = random.randint(0,len(temp_list_img))\n",
    "    \n",
    "    #pick some random image\n",
    "    final_path_image = temp_path +'/'+ temp_list_img[radom_index_img]\n",
    "       \n",
    "    print(final_path_image) #print final path  \n",
    "        \n",
    "\n",
    "    #image = mpimg.imread(final_path_image) #image from path\n",
    "    #image_plot = plt.imshow(image)\n",
    "    #plt.show()\n",
    "    \n",
    "\n",
    "\n",
    "#print(image_data)\n",
    "\n",
    "'''"
   ]
  },
  {
   "cell_type": "code",
   "execution_count": 10,
   "metadata": {},
   "outputs": [
    {
     "data": {
      "text/plain": [
       "\"\\n\\nNow let's load the data in a more manageable format. Since, depending on your computer setup \\nyou might not be able to fit it all in memory, we'll load each class into a separate dataset, \\nstore them on disk and curate them independently. Later we'll merge them into a single dataset \\nof manageable size.\\n\\nWe'll convert the entire dataset into a 3D array (image index, x, y) of floating point values, \\nnormalized to have approximately zero mean and standard deviation ~0.5 to make training easier down the road.\\n\\nA few images might not be readable, we'll just skip them.\\n\""
      ]
     },
     "execution_count": 10,
     "metadata": {},
     "output_type": "execute_result"
    }
   ],
   "source": [
    "'''\n",
    "\n",
    "Now let's load the data in a more manageable format. Since, depending on your computer setup \n",
    "you might not be able to fit it all in memory, we'll load each class into a separate dataset, \n",
    "store them on disk and curate them independently. Later we'll merge them into a single dataset \n",
    "of manageable size.\n",
    "\n",
    "We'll convert the entire dataset into a 3D array (image index, x, y) of floating point values, \n",
    "normalized to have approximately zero mean and standard deviation ~0.5 to make training easier down the road.\n",
    "\n",
    "A few images might not be readable, we'll just skip them.\n",
    "'''"
   ]
  },
  {
   "cell_type": "code",
   "execution_count": 11,
   "metadata": {},
   "outputs": [
    {
     "name": "stdout",
     "output_type": "stream",
     "text": [
      "./notMNIST_large/A.pickle already present - Skipping pickling.\n",
      "./notMNIST_large/B.pickle already present - Skipping pickling.\n",
      "./notMNIST_large/C.pickle already present - Skipping pickling.\n",
      "./notMNIST_large/D.pickle already present - Skipping pickling.\n",
      "./notMNIST_large/E.pickle already present - Skipping pickling.\n",
      "./notMNIST_large/F.pickle already present - Skipping pickling.\n",
      "./notMNIST_large/G.pickle already present - Skipping pickling.\n",
      "./notMNIST_large/H.pickle already present - Skipping pickling.\n",
      "./notMNIST_large/I.pickle already present - Skipping pickling.\n",
      "./notMNIST_large/J.pickle already present - Skipping pickling.\n",
      "./notMNIST_small/A.pickle already present - Skipping pickling.\n",
      "./notMNIST_small/B.pickle already present - Skipping pickling.\n",
      "./notMNIST_small/C.pickle already present - Skipping pickling.\n",
      "./notMNIST_small/D.pickle already present - Skipping pickling.\n",
      "./notMNIST_small/E.pickle already present - Skipping pickling.\n",
      "./notMNIST_small/F.pickle already present - Skipping pickling.\n",
      "./notMNIST_small/G.pickle already present - Skipping pickling.\n",
      "./notMNIST_small/H.pickle already present - Skipping pickling.\n",
      "./notMNIST_small/I.pickle already present - Skipping pickling.\n",
      "./notMNIST_small/J.pickle already present - Skipping pickling.\n"
     ]
    }
   ],
   "source": [
    "image_size = 28  # Pixel width and height.\n",
    "pixel_depth = 255.0  # Number of levels per pixel.\n",
    "\n",
    "def load_letter(folder, min_num_images):\n",
    "  \"\"\"Load the data for a single letter label.\"\"\"\n",
    "  image_files = os.listdir(folder)\n",
    "  dataset = np.ndarray(shape=(len(image_files), image_size, image_size),\n",
    "                         dtype=np.float32)\n",
    "  print(folder)\n",
    "  num_images = 0\n",
    "  for image in image_files:\n",
    "    image_file = os.path.join(folder, image)\n",
    "    try:\n",
    "      image_data = (imageio.imread(image_file).astype(float) - \n",
    "                    pixel_depth / 2) / pixel_depth\n",
    "      if image_data.shape != (image_size, image_size):\n",
    "        raise Exception('Unexpected image shape: %s' % str(image_data.shape))\n",
    "      dataset[num_images, :, :] = image_data\n",
    "      num_images = num_images + 1\n",
    "    except (IOError, ValueError) as e:\n",
    "      print('Could not read:', image_file, ':', e, '- it\\'s ok, skipping.')\n",
    "    \n",
    "  dataset = dataset[0:num_images, :, :]\n",
    "  if num_images < min_num_images:\n",
    "    raise Exception('Many fewer images than expected: %d < %d' %\n",
    "                    (num_images, min_num_images))\n",
    "    \n",
    "  print('Full dataset tensor:', dataset.shape)\n",
    "  print('Mean:', np.mean(dataset))\n",
    "  print('Standard deviation:', np.std(dataset))\n",
    "  return dataset\n",
    "\n",
    "\n",
    "#pick images from folders\n",
    "def maybe_pickle(data_folders, min_num_images_per_class, force=False):\n",
    "  dataset_names = []\n",
    "  for folder in data_folders:\n",
    "    set_filename = folder + '.pickle'\n",
    "    dataset_names.append(set_filename)\n",
    "    if os.path.exists(set_filename) and not force:\n",
    "      # You may override by setting force=True.\n",
    "      print('%s already present - Skipping pickling.' % set_filename)\n",
    "    else:\n",
    "      print('Pickling %s.' % set_filename)\n",
    "      dataset = load_letter(folder, min_num_images_per_class)\n",
    "      try:\n",
    "        with open(set_filename, 'wb') as f:\n",
    "          pickle.dump(dataset, f, pickle.HIGHEST_PROTOCOL)\n",
    "      except Exception as e:\n",
    "        print('Unable to save data to', set_filename, ':', e)\n",
    "  \n",
    "  return dataset_names\n",
    "\n",
    "#save 3D datasets into *.pickle file\n",
    "train_datasets = maybe_pickle(train_folders, 45000) #stores data sets in a single file per label\n",
    "test_datasets = maybe_pickle(test_folders, 1800) #stores data sets in a single file per label"
   ]
  },
  {
   "cell_type": "code",
   "execution_count": 12,
   "metadata": {},
   "outputs": [
    {
     "data": {
      "text/plain": [
       "\"Let's verify that the data still looks good. Displaying a sample of the labels\\nand images from the ndarray. Hint: you can use matplotlib.pyplot.\\n\""
      ]
     },
     "execution_count": 12,
     "metadata": {},
     "output_type": "execute_result"
    }
   ],
   "source": [
    "'''Let's verify that the data still looks good. Displaying a sample of the labels\n",
    "and images from the ndarray. Hint: you can use matplotlib.pyplot.\n",
    "'''"
   ]
  },
  {
   "cell_type": "code",
   "execution_count": 13,
   "metadata": {},
   "outputs": [
    {
     "name": "stdout",
     "output_type": "stream",
     "text": [
      "['./notMNIST_large/A.pickle', './notMNIST_large/B.pickle', './notMNIST_large/C.pickle', './notMNIST_large/D.pickle', './notMNIST_large/E.pickle', './notMNIST_large/F.pickle', './notMNIST_large/G.pickle', './notMNIST_large/H.pickle', './notMNIST_large/I.pickle', './notMNIST_large/J.pickle']\n"
     ]
    }
   ],
   "source": [
    "print(train_datasets) # just pick some random data set"
   ]
  },
  {
   "cell_type": "code",
   "execution_count": 14,
   "metadata": {},
   "outputs": [
    {
     "data": {
      "image/png": "[encoded data removed]",
      "text/plain": [
       "<matplotlib.figure.Figure at 0x7feaac29f748>"
      ]
     },
     "metadata": {},
     "output_type": "display_data"
    },
    {
     "name": "stdout",
     "output_type": "stream",
     "text": [
      "52912\n"
     ]
    }
   ],
   "source": [
    "fileObject = open(train_datasets[5],'rb') #open file in bynary reading mode\n",
    "# load the object from the file into variable\n",
    "testData = pickle.load(fileObject)  \n",
    "#print(A_testData[1,:,:])\n",
    "img = testData[3,:,:]\n",
    "imgplot = plt.imshow(img)\n",
    "plt.show()\n",
    "\n",
    "print(testData.shape[0]) \n",
    "#close file after use, thank you\n",
    "fileObject.close()\n"
   ]
  },
  {
   "cell_type": "code",
   "execution_count": 15,
   "metadata": {},
   "outputs": [
    {
     "data": {
      "text/plain": [
       "'\\nProblem 3\\n\\nAnother check: we expect the data to be balanced across classes. Verify that.'"
      ]
     },
     "execution_count": 15,
     "metadata": {},
     "output_type": "execute_result"
    }
   ],
   "source": [
    "'''\n",
    "Problem 3\n",
    "\n",
    "Another check: we expect the data to be balanced across classes. Verify that.'''\n"
   ]
  },
  {
   "cell_type": "code",
   "execution_count": 16,
   "metadata": {},
   "outputs": [
    {
     "name": "stdout",
     "output_type": "stream",
     "text": [
      "[52909. 52911. 52912. 52911. 52912. 52912. 52912. 52912. 52912. 52911.]\n",
      "Mean of samples 52911.4\n",
      "SD of samples 0.9165151389911681\n"
     ]
    }
   ],
   "source": [
    "'''Data set is balanced is when the std deviation of number of samples of classes \n",
    "is low and number of samples is close to mean'''\n",
    "\n",
    "#empty helper array to store number of samples\n",
    "num_samples = np.array([])\n",
    "\n",
    "#open each class\n",
    "for label_class in train_datasets:\n",
    "    with open(label_class, 'rb') as fileObj:  # Use file to refer to the file object\n",
    "        testData = pickle.load(fileObj) \n",
    "        curNumSamples = testData.shape[0]\n",
    "    num_samples = np.append(num_samples, curNumSamples)\n",
    "\n",
    "print (num_samples)\n",
    "print ('Mean of samples', num_samples.mean()) #calculate mean\n",
    "print ('SD of samples', np.std(num_samples)) #calculate std deviation"
   ]
  },
  {
   "cell_type": "code",
   "execution_count": 17,
   "metadata": {},
   "outputs": [
    {
     "name": "stdout",
     "output_type": "stream",
     "text": [
      "Training: (200000, 28, 28) (200000,)\n",
      "Validation: (10000, 28, 28) (10000,)\n",
      "Testing: (10000, 28, 28) (10000,)\n"
     ]
    }
   ],
   "source": [
    "'''\n",
    "Merge and prune the training data as needed. Depending on your computer setup, you might not be able to fit it all in memory, and you can tune train_size as needed. The labels will be stored into a separate array of integers 0 through 9.\n",
    "\n",
    "Also create a validation dataset for hyperparameter tuning.\n",
    "'''\n",
    "\n",
    "\n",
    "\n",
    "def make_arrays(nb_rows, img_size):\n",
    "  if nb_rows:\n",
    "    dataset = np.ndarray((nb_rows, img_size, img_size), dtype=np.float32)\n",
    "    labels = np.ndarray(nb_rows, dtype=np.int32)\n",
    "  else:\n",
    "    dataset, labels = None, None\n",
    "  return dataset, labels\n",
    "\n",
    "\n",
    "def merge_datasets(pickle_files, train_size, valid_size=0):\n",
    "  num_classes = len(pickle_files)\n",
    "  valid_dataset, valid_labels = make_arrays(valid_size, image_size)\n",
    "  train_dataset, train_labels = make_arrays(train_size, image_size)\n",
    "  vsize_per_class = valid_size // num_classes\n",
    "  tsize_per_class = train_size // num_classes\n",
    "    \n",
    "  start_v, start_t = 0, 0\n",
    "  end_v, end_t = vsize_per_class, tsize_per_class\n",
    "  end_l = vsize_per_class+tsize_per_class\n",
    "  for label, pickle_file in enumerate(pickle_files):       \n",
    "    try:\n",
    "      with open(pickle_file, 'rb') as f:\n",
    "        letter_set = pickle.load(f)\n",
    "        # let's shuffle the letters to have random validation and training set\n",
    "        np.random.shuffle(letter_set) #impoertant!\n",
    "        if valid_dataset is not None:\n",
    "          valid_letter = letter_set[:vsize_per_class, :, :]\n",
    "          valid_dataset[start_v:end_v, :, :] = valid_letter\n",
    "          valid_labels[start_v:end_v] = label\n",
    "          start_v += vsize_per_class\n",
    "          end_v += vsize_per_class\n",
    "                    \n",
    "        train_letter = letter_set[vsize_per_class:end_l, :, :]\n",
    "        train_dataset[start_t:end_t, :, :] = train_letter\n",
    "        train_labels[start_t:end_t] = label\n",
    "        start_t += tsize_per_class\n",
    "        end_t += tsize_per_class\n",
    "    except Exception as e:\n",
    "      print('Unable to process data from', pickle_file, ':', e)\n",
    "      raise\n",
    "    \n",
    "  return valid_dataset, valid_labels, train_dataset, train_labels\n",
    "\n",
    "         \n",
    "train_size = 200000\n",
    "valid_size = 10000\n",
    "test_size = 10000\n",
    "\n",
    "valid_dataset, valid_labels, train_dataset, train_labels = merge_datasets(\n",
    "  train_datasets, train_size, valid_size)\n",
    "_, _, test_dataset, test_labels = merge_datasets(test_datasets, test_size)\n",
    "\n",
    "print('Training:', train_dataset.shape, train_labels.shape)\n",
    "print('Validation:', valid_dataset.shape, valid_labels.shape)\n",
    "print('Testing:', test_dataset.shape, test_labels.shape)"
   ]
  },
  {
   "cell_type": "code",
   "execution_count": 18,
   "metadata": {},
   "outputs": [],
   "source": [
    "'''\n",
    "Randomizing data\n",
    "'''\n",
    "\n",
    "def randomize(dataset, labels):\n",
    "  permutation = np.random.permutation(labels.shape[0])\n",
    "  shuffled_dataset = dataset[permutation,:,:]\n",
    "  shuffled_labels = labels[permutation]\n",
    "  return shuffled_dataset, shuffled_labels\n",
    "train_dataset, train_labels = randomize(train_dataset, train_labels)\n",
    "test_dataset, test_labels = randomize(test_dataset, test_labels)\n",
    "valid_dataset, valid_labels = randomize(valid_dataset, valid_labels)\n",
    "\n"
   ]
  },
  {
   "cell_type": "code",
   "execution_count": null,
   "metadata": {},
   "outputs": [],
   "source": [
    "\n"
   ]
  },
  {
   "cell_type": "code",
   "execution_count": 19,
   "metadata": {},
   "outputs": [
    {
     "data": {
      "text/plain": [
       "'Problem 4\\n\\nConvince yourself that the data is still good after shuffling!'"
      ]
     },
     "execution_count": 19,
     "metadata": {},
     "output_type": "execute_result"
    }
   ],
   "source": [
    "'''Problem 4\n",
    "\n",
    "Convince yourself that the data is still good after shuffling!'''"
   ]
  },
  {
   "cell_type": "code",
   "execution_count": 20,
   "metadata": {},
   "outputs": [
    {
     "name": "stdout",
     "output_type": "stream",
     "text": [
      "{0: 'A', 1: 'B', 2: 'C', 3: 'D', 4: 'E', 5: 'F', 6: 'G', 7: 'H', 8: 'I', 9: 'J'}\n"
     ]
    }
   ],
   "source": [
    "#maps labels to ids\n",
    "\n",
    "\n",
    "labels ={}\n",
    "\n",
    "for i,label_file in enumerate(train_datasets):\n",
    "    labels[i] = label_file[17]; # on 17th position is the label letter we need\n",
    "\n",
    "print(labels)\n"
   ]
  },
  {
   "cell_type": "code",
   "execution_count": 21,
   "metadata": {},
   "outputs": [
    {
     "data": {
      "image/png": "[encoded data removed]",
      "text/plain": [
       "<matplotlib.figure.Figure at 0x7fea7a9aed68>"
      ]
     },
     "metadata": {},
     "output_type": "display_data"
    },
    {
     "name": "stdout",
     "output_type": "stream",
     "text": [
      "1\n"
     ]
    }
   ],
   "source": [
    "#input manually diverse indexes to get sure that label corresponds to correct letter\n",
    "\n",
    "img = train_dataset[700,:,:]\n",
    "imgplot = plt.imshow(img)\n",
    "plt.show()\n",
    "\n",
    "print (train_labels[700])"
   ]
  },
  {
   "cell_type": "code",
   "execution_count": 22,
   "metadata": {},
   "outputs": [
    {
     "name": "stdout",
     "output_type": "stream",
     "text": [
      "Compressed pickle size: 690800506\n"
     ]
    }
   ],
   "source": [
    "'''save resulting data as a new pickle file'''\n",
    "\n",
    "pickle_file = os.path.join(data_root, 'notMNIST.pickle')\n",
    "\n",
    "try:\n",
    "  f = open(pickle_file, 'wb')\n",
    "  save = {\n",
    "    'train_dataset': train_dataset,\n",
    "    'train_labels': train_labels,\n",
    "    'valid_dataset': valid_dataset,\n",
    "    'valid_labels': valid_labels,\n",
    "    'test_dataset': test_dataset,\n",
    "    'test_labels': test_labels,\n",
    "    }\n",
    "  pickle.dump(save, f, pickle.HIGHEST_PROTOCOL)\n",
    "  f.close()\n",
    "except Exception as e:\n",
    "  print('Unable to save data to', pickle_file, ':', e)\n",
    "  raise\n",
    "\n",
    "statinfo = os.stat(pickle_file)\n",
    "print('Compressed pickle size:', statinfo.st_size)"
   ]
  },
  {
   "cell_type": "code",
   "execution_count": 51,
   "metadata": {},
   "outputs": [
    {
     "name": "stdout",
     "output_type": "stream",
     "text": [
      "train_dataset shape  (200000, 28, 28)\n",
      "train_labels shape  (200000,)\n",
      "cv_dataset shape  (10000, 28, 28)\n",
      "cv_labels shape  (10000,)\n",
      "test_dataset shape  (10000, 28, 28)\n",
      "test_labels shape  (10000,)\n",
      "<class 'numpy.ndarray'>\n"
     ]
    }
   ],
   "source": [
    "#open pickle file with saved datasets\n",
    "data_root = '.'\n",
    "DataSet_Path = os.path.join(data_root, 'notMNIST.pickle')\n",
    "\n",
    "try:\n",
    "    DataSet_File = open(DataSet_Path,'rb')\n",
    "    Data = pickle.load(DataSet_File) \n",
    "except Exception as e:\n",
    "  print('Unable to open', DataSet_Path, ':', e)\n",
    "  raise\n",
    "\n",
    "#dataset is saved as dictionary to pickle file     \n",
    "\n",
    "#print(dataset)\n",
    "\n",
    "train_dataset = Data ['train_dataset'];\n",
    "train_labels = Data ['train_labels'];\n",
    "\n",
    "#check if import was ok\n",
    "print ('train_dataset shape ', train_dataset.shape)\n",
    "print ('train_labels shape ', train_labels.shape)\n",
    "\n",
    "cv_dataset = Data ['valid_dataset'];\n",
    "cv_labels = Data ['valid_labels'];\n",
    "\n",
    "#check if import was ok\n",
    "print ('cv_dataset shape ', cv_dataset.shape)\n",
    "print ('cv_labels shape ', cv_labels.shape)\n",
    "\n",
    "test_dataset = Data ['test_dataset'];\n",
    "test_labels = Data ['test_labels'];\n",
    "\n",
    "#check if import was ok\n",
    "print ('test_dataset shape ', test_dataset.shape)\n",
    "print ('test_labels shape ', test_labels.shape)\n",
    "\n",
    "#routine can be implemented to automatically check the data if needed\n",
    "\n",
    "print(type(train_dataset))"
   ]
  },
  {
   "cell_type": "code",
   "execution_count": 57,
   "metadata": {},
   "outputs": [],
   "source": [
    "'''my computer is too slow so I reduce the amount of samples'''\n",
    "\n",
    "def reduce_dataset(orig_dataset, samples_limit):\n",
    "    '''\n",
    "    Reduces amount of sample images\n",
    "    '''\n",
    "    reduced_dataset = np.delete(orig_dataset, range(samples_limit,np.size(orig_dataset,0)), 0);\n",
    "    \n",
    "    return reduced_dataset;\n",
    "\n",
    "train_dataset_50 = reduce_dataset(train_dataset, 50);\n",
    "train_dataset_100 = reduce_dataset(train_dataset, 100);\n",
    "train_dataset_1000 = reduce_dataset(train_dataset, 1000);\n",
    "\n",
    "train_labels_50 = reduce_dataset(train_labels, 50);\n",
    "train_labels_100 = reduce_dataset(train_labels, 100);\n",
    "train_labels_1000 = reduce_dataset(train_labels, 1000);\n",
    "\n",
    "cv_dataset_50 = reduce_dataset(cv_dataset, 50);\n",
    "cv_dataset_100 = reduce_dataset(cv_dataset, 100);\n",
    "cv_dataset_1000 = reduce_dataset(cv_dataset, 1000);\n",
    "\n",
    "cv_labels_50 = reduce_dataset(train_labels, 50);\n",
    "cv_labels_100 = reduce_dataset(train_labels, 100);\n",
    "cv_labels_1000 = reduce_dataset(train_labels, 1000);\n",
    "\n",
    "test_dataset_50 = reduce_dataset(test_dataset, 50);\n",
    "test_dataset_100 = reduce_dataset(test_dataset, 100);\n",
    "test_dataset_1000 = reduce_dataset(test_dataset, 1000);\n",
    "\n",
    "test_labels_50 = reduce_dataset(train_labels, 50);\n",
    "test_labels_100 = reduce_dataset(train_labels, 100);\n",
    "test_labels_1000 = reduce_dataset(train_labels, 1000);\n"
   ]
  },
  {
   "cell_type": "code",
   "execution_count": 63,
   "metadata": {},
   "outputs": [
    {
     "name": "stdout",
     "output_type": "stream",
     "text": [
      "removed  0\n",
      "removed  0\n"
     ]
    }
   ],
   "source": [
    "'''\n",
    "Problem 5\n",
    "\n",
    "By construction, this dataset might contain a lot of overlapping samples, \n",
    "including training data that's also contained in the validation and test set! \n",
    "Overlap between training and test can skew the results if you expect to use your model in \n",
    "an environment where there is never an overlap, but are actually ok if you expect to see training \n",
    "samples recur when you use it. Measure how much overlap there is between training, validation and test samples.\n",
    "\n",
    "Optional questions:\n",
    "\n",
    "    What about near duplicates between datasets? (images that are almost identical)\n",
    "    Create a sanitized validation and test set, and compare your accuracy on those in subsequent assignments.\n",
    "'''\n",
    "\n",
    "#to find overlap it is needed to compare images with same labels pixel by pixel -> if 100% match then identical\n",
    "#Measure how much overlap there is between training, validation and test samples: num_overlaps/num_samples_dataset\n",
    "\n",
    "\n",
    "def find_duplicates(train_dataset,compared_set):\n",
    "    '''function finds duplicates\n",
    "    train_dataset: reference set\n",
    "    compared_set: elements where duplicates to reference are searched for\n",
    "    '''  \n",
    "    duplicates =[];#helper array where duplicate indexes of compared_set shall be stored   \n",
    "    \n",
    "\n",
    "    #iterate through each training image  \n",
    "    for i in range(np.size(train_dataset,0)):\n",
    "        train_img = train_dataset[i,:,:];\n",
    "        #iterate through each cv image\n",
    "        for k in range(np.size(compared_set,0)):        \n",
    "            compared_img = compared_set[k,:,:];\n",
    "            #substract current both images\n",
    "            cur_dif = train_img - compared_img;\n",
    "            #images identical?\n",
    "            if np.all(cur_dif == np.zeros((28,28))):            \n",
    "                duplicates.append(k);\n",
    "            \n",
    "    return duplicates;\n",
    "\n",
    "def remove_duplicates(dataset,labels,duplicates):\n",
    "    '''function removes all duplicates\n",
    "    dataset: target dataset\n",
    "    labels: also remove labels corresponding to dupolicates\n",
    "    duplicates: list of image indexes that are duplicates within target dataset\n",
    "    '''\n",
    "    clean_dataset = np.delete(dataset, duplicates, 0);\n",
    "    clean_labels = np.delete(labels, duplicates, 0);\n",
    "    \n",
    "    print('removed ',len(duplicates), ' duplicates')\n",
    "    \n",
    "    return clean_dataset, clean_labels;\n",
    "\n",
    "        \n",
    "duplicates_with_cv = find_duplicates(train_dataset_50, cv_dataset_50)\n",
    "duplicates_with_test = find_duplicates(train_dataset_50, test_dataset_50)\n",
    "\n",
    "\n",
    "clean_cv_dataset, clean_cv_labels =  remove_duplicates(cv_dataset_50,cv_labels_50,duplicates_with_cv);\n",
    "clean_test_dataset, clean_test_labels =  remove_duplicates(test_dataset_50,test_labels_50,duplicates_with_test);\n",
    "\n",
    "\n",
    "# What about near duplicates between datasets? (images that are almost identical) -> use correlation\n",
    "\n",
    "#    Create a sanitized validation and test set, and compare your accuracy on those in subsequent assignments.\n",
    "# -> delete duplicates\n"
   ]
  },
  {
   "cell_type": "code",
   "execution_count": null,
   "metadata": {},
   "outputs": [],
   "source": []
  },
  {
   "cell_type": "code",
   "execution_count": 64,
   "metadata": {},
   "outputs": [
    {
     "name": "stdout",
     "output_type": "stream",
     "text": [
      "Implement logistic regression\n"
     ]
    }
   ],
   "source": [
    "'''\n",
    "Problem 6\n",
    "\n",
    "Let's get an idea of what an off-the-shelf classifier can give you on this data.\n",
    "It's always good to check that there is something to learn, and that it's a problem that \n",
    "is not so trivial that a canned solution solves it.\n",
    "\n",
    "Train a simple model on this data using 50, 100, 1000 and 5000 training samples. \n",
    "Hint: you can use the LogisticRegression model from sklearn.linear_model.\n",
    "\n",
    "Optional question: train an off-the-shelf model on all the data!'''\n",
    "\n",
    "print('Implement logistic regression')\n"
   ]
  },
  {
   "cell_type": "code",
   "execution_count": null,
   "metadata": {},
   "outputs": [],
   "source": []
  },
  {
   "cell_type": "code",
   "execution_count": null,
   "metadata": {},
   "outputs": [],
   "source": []
  }
 ],
 "metadata": {
  "kernelspec": {
   "display_name": "Python 3",
   "language": "python",
   "name": "python3"
  },
  "language_info": {
   "codemirror_mode": {
    "name": "ipython",
    "version": 3
   },
   "file_extension": ".py",
   "mimetype": "text/x-python",
   "name": "python",
   "nbconvert_exporter": "python",
   "pygments_lexer": "ipython3",
   "version": "3.6.4"
  }
 },
 "nbformat": 4,
 "nbformat_minor": 2
}
