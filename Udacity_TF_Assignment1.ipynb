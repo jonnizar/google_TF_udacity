{
  "nbformat": 4,
  "nbformat_minor": 0,
  "metadata": {
    "colab": {
      "name": "Udacity_TF_Assignment1.ipynb",
      "version": "0.3.2",
      "provenance": [],
      "collapsed_sections": []
    },
    "kernelspec": {
      "name": "python3",
      "display_name": "Python 3"
    }
  },
  "cells": [
    {
      "metadata": {
        "id": "6lBY4hnMzRDV",
        "colab_type": "text"
      },
      "cell_type": "markdown",
      "source": [
        "**Udacity TF: Deep Learning**\n",
        "\n",
        "**Assignment 1**\n",
        "\n",
        "The objective of this assignment is to learn about simple data curation practices, \n",
        "and familiarize you with some of the data we'll be reusing later.\n",
        "\n",
        "This notebook uses the notMNIST dataset to be used with python experiments. \n",
        "This dataset is designed to look like the classic MNIST dataset, while looking\n",
        "a little more like real data: it's a harder task, and the data is a lot less 'clean' than MNIST.\n",
        "\n",
        "\n",
        "```\n",
        "# This is formatted as code\n",
        "```\n",
        "\n"
      ]
    },
    {
      "metadata": {
        "id": "2YyVb75n0AgS",
        "colab_type": "code",
        "colab": {
          "base_uri": "https://localhost:8080/",
          "height": 92
        },
        "outputId": "596b4682-43b4-4741-bbc7-d9c80c6795c6"
      },
      "cell_type": "code",
      "source": [
        "#install packages for google colab\n",
        "#comment/remove this cell if programm is to run on local machine\n",
        "!pip install imageio"
      ],
      "execution_count": 13,
      "outputs": [
        {
          "output_type": "stream",
          "text": [
            "Requirement already satisfied: imageio in /usr/local/lib/python3.6/dist-packages (2.4.1)\n",
            "Requirement already satisfied: pillow in /usr/local/lib/python3.6/dist-packages (from imageio) (4.0.0)\n",
            "Requirement already satisfied: numpy in /usr/local/lib/python3.6/dist-packages (from imageio) (1.14.6)\n",
            "Requirement already satisfied: olefile in /usr/local/lib/python3.6/dist-packages (from pillow->imageio) (0.46)\n"
          ],
          "name": "stdout"
        }
      ]
    },
    {
      "metadata": {
        "id": "1cAF7vph37tE",
        "colab_type": "code",
        "colab": {
          "base_uri": "https://localhost:8080/",
          "height": 36
        },
        "outputId": "b29e0dbe-c059-4063-fceb-999ae2fd065f"
      },
      "cell_type": "code",
      "source": [
        "from google.colab import drive\n",
        "drive.mount('/content/drive')"
      ],
      "execution_count": 14,
      "outputs": [
        {
          "output_type": "stream",
          "text": [
            "Drive already mounted at /content/drive; to attempt to forcibly remount, call drive.mount(\"/content/drive\", force_remount=True).\n"
          ],
          "name": "stdout"
        }
      ]
    },
    {
      "metadata": {
        "id": "WxfvYVpvzPoF",
        "colab_type": "code",
        "colab": {}
      },
      "cell_type": "code",
      "source": [
        "\n",
        "\n",
        "# These are all the modules we'll be using later. Make sure you can import them\n",
        "# before proceeding further.\n",
        "from __future__ import print_function\n",
        "import imageio\n",
        "import matplotlib.pyplot as plt\n",
        "import matplotlib.image as mpimg\n",
        "import numpy as np\n",
        "import os\n",
        "import sys\n",
        "import tarfile\n",
        "from numpy import random\n",
        "from IPython.display import display, Image\n",
        "from sklearn.linear_model import LogisticRegression\n",
        "from six.moves.urllib.request import urlretrieve\n",
        "from six.moves import cPickle as pickle\n",
        "\n",
        "# Config the matplotlib backend as plotting inline in IPython\n",
        "%matplotlib inline\n",
        "\n"
      ],
      "execution_count": 0,
      "outputs": []
    },
    {
      "metadata": {
        "id": "bFAXcD3X1MW0",
        "colab_type": "text"
      },
      "cell_type": "markdown",
      "source": [
        "First, we'll download the dataset to our local machine. The data consists of characters \n",
        "rendered in a variety of fonts on a 28x28 image. The labels are limited to 'A' through 'J'\n",
        "(10 classes). The training set has about 500k and the testset 19000 labeled examples. Given these sizes, \n",
        "it should be possible to train models quickly on any machine."
      ]
    },
    {
      "metadata": {
        "id": "mxz20Pex1O-h",
        "colab_type": "code",
        "colab": {
          "base_uri": "https://localhost:8080/",
          "height": 55
        },
        "outputId": "ca83f063-2a9f-43f5-83b9-602aed3f79ce"
      },
      "cell_type": "code",
      "source": [
        "url = 'https://commondatastorage.googleapis.com/books1000/'\n",
        "last_percent_reported = None\n",
        "data_root = '.' # Change me to store data elsewhere\n",
        "\n",
        "def download_progress_hook(count, blockSize, totalSize):\n",
        "  \"\"\"A hook to report the progress of a download. This is mostly intended for users with\n",
        "  slow internet connections. Reports every 5% change in download progress.\n",
        "  \"\"\"\n",
        "  global last_percent_reported\n",
        "  percent = int(count * blockSize * 100 / totalSize)\n",
        "\n",
        "  if last_percent_reported != percent:\n",
        "    if percent % 5 == 0:\n",
        "      sys.stdout.write(\"%s%%\" % percent)\n",
        "      sys.stdout.flush()\n",
        "    else:\n",
        "      sys.stdout.write(\".\")\n",
        "      sys.stdout.flush()\n",
        "      \n",
        "    last_percent_reported = percent\n",
        "        \n",
        "def maybe_download(filename, expected_bytes, force=False):\n",
        "  \"\"\"Download a file if not present, and make sure it's the right size.\"\"\"\n",
        "  dest_filename = os.path.join(data_root, filename)\n",
        "  if force or not os.path.exists(dest_filename):\n",
        "    print('Attempting to download:', filename) \n",
        "    filename, _ = urlretrieve(url + filename, dest_filename, reporthook=download_progress_hook)\n",
        "    print('\\nDownload Complete!')\n",
        "  statinfo = os.stat(dest_filename)\n",
        "  if statinfo.st_size == expected_bytes:\n",
        "    print('Found and verified', dest_filename)\n",
        "  else:\n",
        "    raise Exception(\n",
        "      'Failed to verify ' + dest_filename + '. Can you get to it with a browser?')\n",
        "  return dest_filename\n",
        "\n",
        "train_filename = maybe_download('notMNIST_large.tar.gz', 247336696)\n",
        "test_filename = maybe_download('notMNIST_small.tar.gz', 8458043)"
      ],
      "execution_count": 16,
      "outputs": [
        {
          "output_type": "stream",
          "text": [
            "Found and verified ./notMNIST_large.tar.gz\n",
            "Found and verified ./notMNIST_small.tar.gz\n"
          ],
          "name": "stdout"
        }
      ]
    },
    {
      "metadata": {
        "id": "136uWmGt18C-",
        "colab_type": "code",
        "colab": {
          "base_uri": "https://localhost:8080/",
          "height": 92
        },
        "outputId": "74fcd360-dc93-45d6-c01c-905fc74a85ad"
      },
      "cell_type": "code",
      "source": [
        "'''Extract the dataset from the compressed .tar.gz file. This should give you a set of directories, labeled A through J.'''\n",
        "\n",
        "num_classes = 10\n",
        "np.random.seed(133)\n",
        "\n",
        "def maybe_extract(filename, force=False):\n",
        "  root = os.path.splitext(os.path.splitext(filename)[0])[0]  # remove .tar.gz\n",
        "  if os.path.isdir(root) and not force:\n",
        "    # You may override by setting force=True.\n",
        "    print('%s already present - Skipping extraction of %s.' % (root, filename))\n",
        "  else:\n",
        "    print('Extracting data for %s. This may take a while. Please wait.' % root)\n",
        "    tar = tarfile.open(filename)\n",
        "    sys.stdout.flush()\n",
        "    tar.extractall(data_root)\n",
        "    tar.close()\n",
        "  data_folders = [\n",
        "    os.path.join(root, d) for d in sorted(os.listdir(root))\n",
        "    if os.path.isdir(os.path.join(root, d))]\n",
        "  if len(data_folders) != num_classes:\n",
        "    raise Exception(\n",
        "      'Expected %d folders, one per class. Found %d instead.' % (\n",
        "        num_classes, len(data_folders)))\n",
        "  print(data_folders)\n",
        "  return data_folders\n",
        "  \n",
        "train_folders = maybe_extract(train_filename)\n",
        "test_folders = maybe_extract(test_filename)\n"
      ],
      "execution_count": 17,
      "outputs": [
        {
          "output_type": "stream",
          "text": [
            "./notMNIST_large already present - Skipping extraction of ./notMNIST_large.tar.gz.\n",
            "['./notMNIST_large/A', './notMNIST_large/B', './notMNIST_large/C', './notMNIST_large/D', './notMNIST_large/E', './notMNIST_large/F', './notMNIST_large/G', './notMNIST_large/H', './notMNIST_large/I', './notMNIST_large/J']\n",
            "./notMNIST_small already present - Skipping extraction of ./notMNIST_small.tar.gz.\n",
            "['./notMNIST_small/A', './notMNIST_small/B', './notMNIST_small/C', './notMNIST_small/D', './notMNIST_small/E', './notMNIST_small/F', './notMNIST_small/G', './notMNIST_small/H', './notMNIST_small/I', './notMNIST_small/J']\n"
          ],
          "name": "stdout"
        }
      ]
    },
    {
      "metadata": {
        "id": "8M0Hmd2B5llm",
        "colab_type": "code",
        "colab": {
          "base_uri": "https://localhost:8080/",
          "height": 56
        },
        "outputId": "ab395e17-fa79-4120-8e1e-c197761f3737"
      },
      "cell_type": "code",
      "source": [
        "'''Let's take a peek at some of the data to make sure it looks sensible. Each exemplar should be an image of a character A through J rendered in a different font. Display a sample of the images that we\n",
        "just downloaded. Hint: you can use the package IPython.display'''\n",
        "\n",
        "\n",
        "'''\n",
        "path_large='./notMNIST_large/' # train dataset\n",
        "path_small='./notMNIST_small/'# test dataset\n",
        "\n",
        "imgFiles_large = os.listdir(path_large)\n",
        "imgFiles_small = os.listdir(path_small)\n",
        "\n",
        "\n",
        "#iterate through small images\n",
        "for i in range(0,3):\n",
        "    random_index_path = random.randint(0,len(imgFiles_small))#in numpy the randint includes the last number        \n",
        "    \n",
        "    temp_path = path_small + imgFiles_small[random_index_path] #path to random directory\n",
        "    temp_list_img = os.listdir(temp_path) #list all images of files within random directory    \n",
        "       \n",
        "    radom_index_img = random.randint(0,len(temp_list_img))\n",
        "    \n",
        "    #pick some random image\n",
        "    final_path_image = temp_path +'/'+ temp_list_img[radom_index_img]\n",
        "       \n",
        "    print(final_path_image) #print final path  \n",
        "        \n",
        "\n",
        "    image = mpimg.imread(final_path_image) #image from path\n",
        "    image_plot = plt.imshow(image)\n",
        "    plt.show()\n",
        " '''"
      ],
      "execution_count": 19,
      "outputs": [
        {
          "output_type": "execute_result",
          "data": {
            "text/plain": [
              "\"\\npath_large='./notMNIST_large/' # train dataset\\npath_small='./notMNIST_small/'# test dataset\\n\\nimgFiles_large = os.listdir(path_large)\\nimgFiles_small = os.listdir(path_small)\\n\\n\\n#iterate through small images\\nfor i in range(0,3):\\n    random_index_path = random.randint(0,len(imgFiles_small))#in numpy the randint includes the last number        \\n    \\n    temp_path = path_small + imgFiles_small[random_index_path] #path to random directory\\n    temp_list_img = os.listdir(temp_path) #list all images of files within random directory    \\n       \\n    radom_index_img = random.randint(0,len(temp_list_img))\\n    \\n    #pick some random image\\n    final_path_image = temp_path +'/'+ temp_list_img[radom_index_img]\\n       \\n    print(final_path_image) #print final path  \\n        \\n\\n    image = mpimg.imread(final_path_image) #image from path\\n    image_plot = plt.imshow(image)\\n    plt.show()\\n \""
            ]
          },
          "metadata": {
            "tags": []
          },
          "execution_count": 19
        }
      ]
    },
    {
      "metadata": {
        "id": "QvMyCHlG6C01",
        "colab_type": "code",
        "colab": {}
      },
      "cell_type": "code",
      "source": [
        "'''\n",
        "\n",
        "Now let's load the data in a more manageable format. Since, depending on your computer setup \n",
        "you might not be able to fit it all in memory, we'll load each class into a separate dataset, \n",
        "store them on disk and curate them independently. Later we'll merge them into a single dataset \n",
        "of manageable size.\n",
        "\n",
        "We'll convert the entire dataset into a 3D array (image index, x, y) of floating point values, \n",
        "normalized to have approximately zero mean and standard deviation ~0.5 to make training easier down the road.\n",
        "\n",
        "A few images might not be readable, we'll just skip them.\n",
        "'''\n",
        "\n",
        "image_size = 28  # Pixel width and height.\n",
        "pixel_depth = 255.0  # Number of levels per pixel.\n",
        "\n",
        "def load_letter(folder, min_num_images):\n",
        "  \"\"\"Load the data for a single letter label.\"\"\"\n",
        "  image_files = os.listdir(folder)\n",
        "  dataset = np.ndarray(shape=(len(image_files), image_size, image_size),\n",
        "                         dtype=np.float32)\n",
        "  print(folder)\n",
        "  num_images = 0\n",
        "  for image in image_files:\n",
        "    image_file = os.path.join(folder, image)\n",
        "    try:\n",
        "      image_data = (imageio.imread(image_file).astype(float) - \n",
        "                    pixel_depth / 2) / pixel_depth\n",
        "      if image_data.shape != (image_size, image_size):\n",
        "        raise Exception('Unexpected image shape: %s' % str(image_data.shape))\n",
        "      dataset[num_images, :, :] = image_data\n",
        "      num_images = num_images + 1\n",
        "    except (IOError, ValueError) as e:\n",
        "      print('Could not read:', image_file, ':', e, '- it\\'s ok, skipping.')\n",
        "    \n",
        "  dataset = dataset[0:num_images, :, :]\n",
        "  if num_images < min_num_images:\n",
        "    raise Exception('Many fewer images than expected: %d < %d' %\n",
        "                    (num_images, min_num_images))\n",
        "    \n",
        "  print('Full dataset tensor:', dataset.shape)\n",
        "  print('Mean:', np.mean(dataset))\n",
        "  print('Standard deviation:', np.std(dataset))\n",
        "  return dataset\n",
        "\n",
        "\n",
        "#pick images from folders\n",
        "def maybe_pickle(data_folders, min_num_images_per_class, force=False):\n",
        "  dataset_names = []\n",
        "  for folder in data_folders:\n",
        "    set_filename = folder + '.pickle'\n",
        "    dataset_names.append(set_filename)\n",
        "    if os.path.exists(set_filename) and not force:\n",
        "      # You may override by setting force=True.\n",
        "      print('%s already present - Skipping pickling.' % set_filename)\n",
        "    else:\n",
        "      print('Pickling %s.' % set_filename)\n",
        "      dataset = load_letter(folder, min_num_images_per_class)\n",
        "      try:\n",
        "        with open(set_filename, 'wb') as f:\n",
        "          pickle.dump(dataset, f, pickle.HIGHEST_PROTOCOL)\n",
        "      except Exception as e:\n",
        "        print('Unable to save data to', set_filename, ':', e)\n",
        "  \n",
        "  return dataset_names\n",
        "\n",
        "#save 3D datasets into *.pickle file\n",
        "train_datasets = maybe_pickle(train_folders, 45000) #stores data sets in a single file per label\n",
        "test_datasets = maybe_pickle(test_folders, 1800) #stores data sets in a single file per label"
      ],
      "execution_count": 0,
      "outputs": []
    },
    {
      "metadata": {
        "id": "_fZ_MDPu7fyM",
        "colab_type": "code",
        "colab": {}
      },
      "cell_type": "code",
      "source": [
        "fileObject = open(train_datasets[5],'rb') #open file in bynary reading mode\n",
        "# load the object from the file into variable\n",
        "testData = pickle.load(fileObject)  \n",
        "#print(A_testData[1,:,:])\n",
        "img = testData[3,:,:]\n",
        "imgplot = plt.imshow(img)\n",
        "plt.show()\n",
        "\n",
        "print(testData.shape[0]) \n",
        "#close file after use, thank you\n",
        "fileObject.close()"
      ],
      "execution_count": 0,
      "outputs": []
    }
  ]
}